{
 "cells": [
  {
   "cell_type": "code",
   "execution_count": 1,
   "id": "a351058d-cd3b-4cfd-a3a0-712cc0780ca4",
   "metadata": {},
   "outputs": [],
   "source": [
    "import pandas as pd\n",
    "import numpy as np\n",
    "import pulp\n",
    "from pulp import LpProblem, LpMinimize, LpVariable, LpStatus, lpSum, value, getSolver\n",
    "from pulp import LpStatus, LpStatusOptimal"
   ]
  },
  {
   "cell_type": "code",
   "execution_count": 2,
   "id": "0593c894-b252-40cd-92f9-6327e6288c87",
   "metadata": {},
   "outputs": [],
   "source": [
    "locations_df = pd.read_csv(\"locations.csv\")\n",
    "routes_df = pd.read_csv(\"routes.csv\")"
   ]
  },
  {
   "cell_type": "code",
   "execution_count": 3,
   "id": "7310b47d-666a-4d59-b1d4-5a2a7eeef34a",
   "metadata": {},
   "outputs": [],
   "source": [
    "supply_points_df = locations_df[locations_df['Location Type'].isin(['Hub', 'Focus City'])]\n",
    "supply_points = dict(zip(supply_points_df['Location Name'], supply_points_df['Capacity']))\n",
    "\n",
    "\n",
    "centers_df = locations_df[locations_df['Location Type'] == 'Center']\n",
    "centers = dict(zip(centers_df['Location Name'], centers_df['Demand']))\n",
    "\n",
    "centers = {city: float(demand.replace(\",\", \"\")) for city, demand in centers.items()}\n",
    "\n",
    "costs = {}\n",
    "for _, row in routes_df.iterrows():\n",
    "    is_available = bool(row['IsAvailable?']) #Availability Constraint\n",
    "    \n",
    "    if is_available:\n",
    "        try:\n",
    "            source_name = locations_df.loc[locations_df['Location ID'] == row['Route Start'], 'Location Name'].values[0]\n",
    "            dest_name = locations_df.loc[locations_df['Location ID'] == row['Route End'], 'Location Name'].values[0]\n",
    "            costs[(source_name, dest_name)] = row['Price']\n",
    "        except (IndexError, KeyError) as e:\n",
    "            print(f\"Error processing route from {row['Route Start']} to {row['Route End']}: {e}\")"
   ]
  },
  {
   "cell_type": "code",
   "execution_count": 4,
   "id": "386c4418-deee-4885-929f-0126df10916b",
   "metadata": {},
   "outputs": [
    {
     "data": {
      "text/html": [
       "<div>\n",
       "<style scoped>\n",
       "    .dataframe tbody tr th:only-of-type {\n",
       "        vertical-align: middle;\n",
       "    }\n",
       "\n",
       "    .dataframe tbody tr th {\n",
       "        vertical-align: top;\n",
       "    }\n",
       "\n",
       "    .dataframe thead th {\n",
       "        text-align: right;\n",
       "    }\n",
       "</style>\n",
       "<table border=\"1\" class=\"dataframe\">\n",
       "  <thead>\n",
       "    <tr style=\"text-align: right;\">\n",
       "      <th></th>\n",
       "      <th>Route Start</th>\n",
       "      <th>Route End</th>\n",
       "      <th>Price</th>\n",
       "      <th>IsAvailable?</th>\n",
       "    </tr>\n",
       "  </thead>\n",
       "  <tbody>\n",
       "    <tr>\n",
       "      <th>0</th>\n",
       "      <td>1</td>\n",
       "      <td>6</td>\n",
       "      <td>1.6</td>\n",
       "      <td>True</td>\n",
       "    </tr>\n",
       "    <tr>\n",
       "      <th>1</th>\n",
       "      <td>1</td>\n",
       "      <td>7</td>\n",
       "      <td>1.5</td>\n",
       "      <td>True</td>\n",
       "    </tr>\n",
       "    <tr>\n",
       "      <th>2</th>\n",
       "      <td>1</td>\n",
       "      <td>8</td>\n",
       "      <td>1.5</td>\n",
       "      <td>True</td>\n",
       "    </tr>\n",
       "    <tr>\n",
       "      <th>3</th>\n",
       "      <td>1</td>\n",
       "      <td>9</td>\n",
       "      <td>NaN</td>\n",
       "      <td>False</td>\n",
       "    </tr>\n",
       "    <tr>\n",
       "      <th>4</th>\n",
       "      <td>1</td>\n",
       "      <td>10</td>\n",
       "      <td>NaN</td>\n",
       "      <td>False</td>\n",
       "    </tr>\n",
       "  </tbody>\n",
       "</table>\n",
       "</div>"
      ],
      "text/plain": [
       "   Route Start  Route End  Price  IsAvailable?\n",
       "0            1          6    1.6          True\n",
       "1            1          7    1.5          True\n",
       "2            1          8    1.5          True\n",
       "3            1          9    NaN         False\n",
       "4            1         10    NaN         False"
      ]
     },
     "execution_count": 4,
     "metadata": {},
     "output_type": "execute_result"
    }
   ],
   "source": [
    "routes_df.head() # Data Inspection"
   ]
  },
  {
   "cell_type": "code",
   "execution_count": 5,
   "id": "acfd68e1-fb5d-499b-a05e-d4ca44dfdbc1",
   "metadata": {},
   "outputs": [
    {
     "data": {
      "text/html": [
       "<div>\n",
       "<style scoped>\n",
       "    .dataframe tbody tr th:only-of-type {\n",
       "        vertical-align: middle;\n",
       "    }\n",
       "\n",
       "    .dataframe tbody tr th {\n",
       "        vertical-align: top;\n",
       "    }\n",
       "\n",
       "    .dataframe thead th {\n",
       "        text-align: right;\n",
       "    }\n",
       "</style>\n",
       "<table border=\"1\" class=\"dataframe\">\n",
       "  <thead>\n",
       "    <tr style=\"text-align: right;\">\n",
       "      <th></th>\n",
       "      <th>Location ID</th>\n",
       "      <th>Location Name</th>\n",
       "      <th>Location Type</th>\n",
       "      <th>Capacity</th>\n",
       "      <th>Demand</th>\n",
       "    </tr>\n",
       "  </thead>\n",
       "  <tbody>\n",
       "    <tr>\n",
       "      <th>0</th>\n",
       "      <td>1.0</td>\n",
       "      <td>Cincinnati/Northern Kentucky (CVG)</td>\n",
       "      <td>Hub</td>\n",
       "      <td>95650.0</td>\n",
       "      <td>NaN</td>\n",
       "    </tr>\n",
       "    <tr>\n",
       "      <th>1</th>\n",
       "      <td>2.0</td>\n",
       "      <td>Alliance Fort Worth (AFW)</td>\n",
       "      <td>Hub</td>\n",
       "      <td>44350.0</td>\n",
       "      <td>NaN</td>\n",
       "    </tr>\n",
       "    <tr>\n",
       "      <th>2</th>\n",
       "      <td>3.0</td>\n",
       "      <td>Leipzig, Germany</td>\n",
       "      <td>Focus City</td>\n",
       "      <td>85000.0</td>\n",
       "      <td>NaN</td>\n",
       "    </tr>\n",
       "    <tr>\n",
       "      <th>3</th>\n",
       "      <td>4.0</td>\n",
       "      <td>Hyderabad, India</td>\n",
       "      <td>Focus City</td>\n",
       "      <td>19000.0</td>\n",
       "      <td>NaN</td>\n",
       "    </tr>\n",
       "    <tr>\n",
       "      <th>4</th>\n",
       "      <td>5.0</td>\n",
       "      <td>San Bernardino, CA, United States</td>\n",
       "      <td>Focus City</td>\n",
       "      <td>36000.0</td>\n",
       "      <td>NaN</td>\n",
       "    </tr>\n",
       "  </tbody>\n",
       "</table>\n",
       "</div>"
      ],
      "text/plain": [
       "   Location ID                       Location Name Location Type  Capacity  \\\n",
       "0          1.0  Cincinnati/Northern Kentucky (CVG)           Hub   95650.0   \n",
       "1          2.0           Alliance Fort Worth (AFW)           Hub   44350.0   \n",
       "2          3.0                    Leipzig, Germany    Focus City   85000.0   \n",
       "3          4.0                    Hyderabad, India    Focus City   19000.0   \n",
       "4          5.0   San Bernardino, CA, United States    Focus City   36000.0   \n",
       "\n",
       "  Demand  \n",
       "0    NaN  \n",
       "1    NaN  \n",
       "2    NaN  \n",
       "3    NaN  \n",
       "4    NaN  "
      ]
     },
     "execution_count": 5,
     "metadata": {},
     "output_type": "execute_result"
    }
   ],
   "source": [
    "locations_df.head()"
   ]
  },
  {
   "cell_type": "code",
   "execution_count": 6,
   "id": "c6fc8f07-fbbf-43b4-8784-276b8d74bfc2",
   "metadata": {},
   "outputs": [],
   "source": [
    "model = LpProblem(\"Amazon_Cargo_Distribution\", LpMinimize) #Method\n",
    "\n",
    "# Decision Variables\n",
    "x = {}\n",
    "for D in supply_points:\n",
    "    for FC in centers:\n",
    "        if (D, FC) in costs:  \n",
    "            x[D, FC] = LpVariable(f\"ship_{D}_to_{FC}\", lowBound=0, cat='Continuous')\n",
    "\n",
    "# Objective Function\n",
    "model += lpSum(costs[D, FC] * x[D, FC] for (D, FC) in x), \"Total_Transportation_Cost\""
   ]
  },
  {
   "cell_type": "code",
   "execution_count": 7,
   "id": "57d1edf5-05fc-4c14-bb92-703d9bad148f",
   "metadata": {},
   "outputs": [],
   "source": [
    "#Demand Constraint\n",
    "for FC in centers:\n",
    "    available_routes = [D for D in supply_points if (D, FC) in x]\n",
    "    if available_routes:\n",
    "        model += lpSum(x[D, FC] for D in available_routes) == centers[FC], f\"Demand_{FC}\"\n",
    "    else:\n",
    "        print:(f\"No Valid Routes to {FC}\")\n"
   ]
  },
  {
   "cell_type": "code",
   "execution_count": 8,
   "id": "e565244e-8d16-46cb-8ea5-8d80dab44f85",
   "metadata": {},
   "outputs": [],
   "source": [
    "# Capacity Constraint\n",
    "for D in supply_points:\n",
    "    model += lpSum(x[D, FC] for FC in centers if (D, FC) in x) <= supply_points[D], f\"Capacity_{D}\""
   ]
  },
  {
   "cell_type": "code",
   "execution_count": 9,
   "id": "836bd71f-1c7e-4b1c-ae98-8ee1b633e0a0",
   "metadata": {},
   "outputs": [],
   "source": [
    "#Non-Negativity Constraint\n",
    "\n",
    "for (D, FC) in x:\n",
    "    model += x[D, FC] >=0, f\"NonNeg_{D}_to_{FC}\""
   ]
  },
  {
   "cell_type": "code",
   "execution_count": 10,
   "id": "0790ad86-ec73-4a30-b7ef-fd0efc4f4d36",
   "metadata": {},
   "outputs": [
    {
     "data": {
      "text/plain": [
       "1"
      ]
     },
     "execution_count": 10,
     "metadata": {},
     "output_type": "execute_result"
    }
   ],
   "source": [
    "solver = getSolver('PULP_CBC_CMD', msg=True)\n",
    "model.solve(solver)"
   ]
  },
  {
   "cell_type": "code",
   "execution_count": 11,
   "id": "8a116f1a-f5de-4059-a297-36a1684b43ec",
   "metadata": {},
   "outputs": [
    {
     "name": "stdout",
     "output_type": "stream",
     "text": [
      "Model status: Optimal\n"
     ]
    }
   ],
   "source": [
    "print(f\"Model status: {LpStatus[model.status]}\")"
   ]
  },
  {
   "cell_type": "code",
   "execution_count": 12,
   "id": "e9c26baa-4f81-4f0a-9289-31e789aa0a9c",
   "metadata": {},
   "outputs": [
    {
     "name": "stdout",
     "output_type": "stream",
     "text": [
      "Solution found! Optimal distribution plan:\n",
      "Ship 975.00 tons from Alliance Fort Worth (AFW) to Austin at $0.25 per ton (total $243.75)\n",
      "Ship 3,300.00 tons from Alliance Fort Worth (AFW) to Houston at $0.25 per ton (total $825.00)\n",
      "Ship 1,100.00 tons from Alliance Fort Worth (AFW) to San Antonio at $0.25 per ton (total $275.00)\n",
      "Ship 450.00 tons from Cincinnati/Northern Kentucky (CVG) to Albuquerque at $0.5 per ton (total $225.00)\n",
      "Ship 420.00 tons from Cincinnati/Northern Kentucky (CVG) to Allentown at $0.5 per ton (total $210.00)\n",
      "Ship 3,000.00 tons from Cincinnati/Northern Kentucky (CVG) to Atlanta at $0.5 per ton (total $1,500.00)\n",
      "Ship 1,300.00 tons from Cincinnati/Northern Kentucky (CVG) to Baltimore at $0.5 per ton (total $650.00)\n",
      "Ship 900.00 tons from Cincinnati/Northern Kentucky (CVG) to Charlotte at $0.5 per ton (total $450.00)\n",
      "Ship 5,100.00 tons from Cincinnati/Northern Kentucky (CVG) to Chicago at $0.5 per ton (total $2,550.00)\n",
      "Ship 3,300.00 tons from Cincinnati/Northern Kentucky (CVG) to Dallas at $0.5 per ton (total $1,650.00)\n",
      "Ship 1,500.00 tons from Cincinnati/Northern Kentucky (CVG) to Denver at $0.5 per ton (total $750.00)\n",
      "Ship 300.00 tons from Cincinnati/Northern Kentucky (CVG) to Des Moines at $0.5 per ton (total $150.00)\n",
      "Ship 200.00 tons from Cincinnati/Northern Kentucky (CVG) to Fort Wayne at $0.5 per ton (total $100.00)\n",
      "Ship 540.00 tons from Cincinnati/Northern Kentucky (CVG) to Hartford at $0.5 per ton (total $270.00)\n",
      "Ship 975.00 tons from Cincinnati/Northern Kentucky (CVG) to Kansas City at $0.5 per ton (total $487.50)\n",
      "Ship 185.00 tons from Cincinnati/Northern Kentucky (CVG) to Lakeland at $0.5 per ton (total $92.50)\n",
      "Ship 7,200.00 tons from Cincinnati/Northern Kentucky (CVG) to Los Angeles at $0.5 per ton (total $3,600.00)\n",
      "Ship 100.00 tons from Cincinnati/Northern Kentucky (CVG) to Manchester at $0.5 per ton (total $50.00)\n",
      "Ship 3,400.00 tons from Cincinnati/Northern Kentucky (CVG) to Miami at $0.5 per ton (total $1,700.00)\n",
      "Ship 1,700.00 tons from Cincinnati/Northern Kentucky (CVG) to Minneapolis at $0.5 per ton (total $850.00)\n",
      "Ship 190.00 tons from Cincinnati/Northern Kentucky (CVG) to Mobile at $0.5 per ton (total $95.00)\n",
      "Ship 650.00 tons from Cincinnati/Northern Kentucky (CVG) to Nashville at $0.5 per ton (total $325.00)\n",
      "Ship 550.00 tons from Cincinnati/Northern Kentucky (CVG) to New Orleans at $0.5 per ton (total $275.00)\n",
      "Ship 11,200.00 tons from Cincinnati/Northern Kentucky (CVG) to New York at $0.5 per ton (total $5,600.00)\n",
      "Ship 480.00 tons from Cincinnati/Northern Kentucky (CVG) to Omaha at $0.5 per ton (total $240.00)\n",
      "Ship 100.00 tons from Cincinnati/Northern Kentucky (CVG) to Ontario at $0.5 per ton (total $50.00)\n",
      "Ship 2,400.00 tons from Cincinnati/Northern Kentucky (CVG) to Phoenix at $0.5 per ton (total $1,200.00)\n",
      "Ship 1,000.00 tons from Cincinnati/Northern Kentucky (CVG) to Pittsburgh at $0.5 per ton (total $500.00)\n",
      "Ship 1,200.00 tons from Cincinnati/Northern Kentucky (CVG) to Portland at $0.5 per ton (total $600.00)\n",
      "Ship 600.00 tons from Cincinnati/Northern Kentucky (CVG) to Richmond at $0.5 per ton (total $300.00)\n",
      "Ship 1,200.00 tons from Cincinnati/Northern Kentucky (CVG) to Riverside at $0.5 per ton (total $600.00)\n",
      "Ship 172.00 tons from Cincinnati/Northern Kentucky (CVG) to Rockford at $0.5 per ton (total $86.00)\n",
      "Ship 1,100.00 tons from Cincinnati/Northern Kentucky (CVG) to Sacramento at $0.5 per ton (total $550.00)\n",
      "Ship 1,900.00 tons from Cincinnati/Northern Kentucky (CVG) to San Francisco at $0.5 per ton (total $950.00)\n",
      "Ship 1,100.00 tons from Cincinnati/Northern Kentucky (CVG) to San Juan at $0.5 per ton (total $550.00)\n",
      "Ship 2,000.00 tons from Cincinnati/Northern Kentucky (CVG) to Seattle/Tacoma at $0.5 per ton (total $1,000.00)\n",
      "Ship 173.00 tons from Cincinnati/Northern Kentucky (CVG) to South Bend at $0.5 per ton (total $86.50)\n",
      "Ship 260.00 tons from Cincinnati/Northern Kentucky (CVG) to Spokane at $0.5 per ton (total $130.00)\n",
      "Ship 1,200.00 tons from Cincinnati/Northern Kentucky (CVG) to St. Louis at $0.5 per ton (total $600.00)\n",
      "Ship 240.00 tons from Cincinnati/Northern Kentucky (CVG) to Stockton at $0.5 per ton (total $120.00)\n",
      "Ship 1,600.00 tons from Cincinnati/Northern Kentucky (CVG) to Tampa at $0.5 per ton (total $800.00)\n",
      "Ship 290.00 tons from Cincinnati/Northern Kentucky (CVG) to Toledo at $0.5 per ton (total $145.00)\n",
      "Ship 290.00 tons from Cincinnati/Northern Kentucky (CVG) to Wichita at $0.5 per ton (total $145.00)\n",
      "Ship 150.00 tons from Cincinnati/Northern Kentucky (CVG) to Wilmington at $0.5 per ton (total $75.00)\n",
      "Ship 19,000.00 tons from Hyderabad, India to Delhi at $0.5 per ton (total $9,500.00)\n",
      "Ship 9,100.00 tons from Leipzig, Germany to Bangalore  at $1.5 per ton (total $13,650.00)\n",
      "Ship 2,800.00 tons from Leipzig, Germany to Barcelona at $0.5 per ton (total $1,400.00)\n",
      "Ship 90.00 tons from Leipzig, Germany to Cagliari at $0.5 per ton (total $45.00)\n",
      "Ship 30.00 tons from Leipzig, Germany to Castle Donington at $0.5 per ton (total $15.00)\n",
      "Ship 185.00 tons from Leipzig, Germany to Catania at $0.5 per ton (total $92.50)\n",
      "Ship 570.00 tons from Leipzig, Germany to Coimbatore at $1.5 per ton (total $855.00)\n",
      "Ship 640.00 tons from Leipzig, Germany to Cologne at $0.5 per ton (total $320.00)\n",
      "Ship 180.00 tons from Leipzig, Germany to Hanover at $0.5 per ton (total $90.00)\n",
      "Ship 170.00 tons from Leipzig, Germany to Katowice at $0.5 per ton (total $85.00)\n",
      "Ship 6,700.00 tons from Leipzig, Germany to London at $0.75 per ton (total $5,025.00)\n",
      "Ship 3,700.00 tons from Leipzig, Germany to Madrid at $0.5 per ton (total $1,850.00)\n",
      "Ship 800.00 tons from Leipzig, Germany to Milan at $0.5 per ton (total $400.00)\n",
      "Ship 14,800.00 tons from Leipzig, Germany to Mumbai at $1.5 per ton (total $22,200.00)\n",
      "Ship 6,500.00 tons from Leipzig, Germany to Paris at $0.5 per ton (total $3,250.00)\n",
      "Ship 1,700.00 tons from Leipzig, Germany to Rome at $0.5 per ton (total $850.00)\n",
      "Ship 175.00 tons from San Bernardino, CA, United States to Anchorage at $0.7 per ton (total $122.50)\n",
      "Ship 38.00 tons from San Bernardino, CA, United States to Fairbanks at $0.7 per ton (total $26.60)\n",
      "Ship 500.00 tons from San Bernardino, CA, United States to Honolulu at $0.5 per ton (total $250.00)\n",
      "Ship 16.00 tons from San Bernardino, CA, United States to Kahului/Maui at $0.5 per ton (total $8.00)\n",
      "Ship 63.00 tons from San Bernardino, CA, United States to Kona at $0.5 per ton (total $31.50)\n",
      "\n",
      "Total cost: $91,717.35\n"
     ]
    }
   ],
   "source": [
    "if model.status == LpStatusOptimal:\n",
    "    print(\"Solution found! Optimal distribution plan:\")\n",
    "    \n",
    "    # Print shipment details\n",
    "    for (D, FC) in sorted(x.keys()):\n",
    "        if value(x[D, FC]) > 0:  # Only show non-zero shipments\n",
    "            print(f\"Ship {value(x[D, FC]):,.2f} tons from {D} to {FC} \" \n",
    "                  f\"at ${costs[D, FC]} per ton (total ${costs[D, FC] * value(x[D, FC]):,.2f})\")\n",
    "    \n",
    "    # Print total cost\n",
    "    print(f\"\\nTotal cost: ${value(model.objective):,.2f}\")"
   ]
  },
  {
   "cell_type": "code",
   "execution_count": 13,
   "id": "48970cac-8b0e-456d-8391-8505ea6bd2d4",
   "metadata": {},
   "outputs": [
    {
     "name": "stdout",
     "output_type": "stream",
     "text": [
      "\n",
      "DEMAND CONSTRAINT VERIFICATION:\n",
      "-------------------------------\n",
      "Paris: Received 6,500.00 tons, Required 6,500.00 tons - ✓\n",
      "Cologne: Received 640.00 tons, Required 640.00 tons - ✓\n",
      "Hanover: Received 180.00 tons, Required 180.00 tons - ✓\n",
      "Bangalore : Received 9,100.00 tons, Required 9,100.00 tons - ✓\n",
      "Coimbatore: Received 570.00 tons, Required 570.00 tons - ✓\n",
      "Delhi: Received 19,000.00 tons, Required 19,000.00 tons - ✓\n",
      "Mumbai: Received 14,800.00 tons, Required 14,800.00 tons - ✓\n",
      "Cagliari: Received 90.00 tons, Required 90.00 tons - ✓\n",
      "Catania: Received 185.00 tons, Required 185.00 tons - ✓\n",
      "Milan: Received 800.00 tons, Required 800.00 tons - ✓\n",
      "Rome: Received 1,700.00 tons, Required 1,700.00 tons - ✓\n",
      "Katowice: Received 170.00 tons, Required 170.00 tons - ✓\n",
      "Barcelona: Received 2,800.00 tons, Required 2,800.00 tons - ✓\n",
      "Madrid: Received 3,700.00 tons, Required 3,700.00 tons - ✓\n",
      "Castle Donington: Received 30.00 tons, Required 30.00 tons - ✓\n",
      "London: Received 6,700.00 tons, Required 6,700.00 tons - ✓\n",
      "Mobile: Received 190.00 tons, Required 190.00 tons - ✓\n",
      "Anchorage: Received 175.00 tons, Required 175.00 tons - ✓\n",
      "Fairbanks: Received 38.00 tons, Required 38.00 tons - ✓\n",
      "Phoenix: Received 2,400.00 tons, Required 2,400.00 tons - ✓\n",
      "Los Angeles: Received 7,200.00 tons, Required 7,200.00 tons - ✓\n",
      "Ontario: Received 100.00 tons, Required 100.00 tons - ✓\n",
      "Riverside: Received 1,200.00 tons, Required 1,200.00 tons - ✓\n",
      "Sacramento: Received 1,100.00 tons, Required 1,100.00 tons - ✓\n",
      "San Francisco: Received 1,900.00 tons, Required 1,900.00 tons - ✓\n",
      "Stockton: Received 240.00 tons, Required 240.00 tons - ✓\n",
      "Denver: Received 1,500.00 tons, Required 1,500.00 tons - ✓\n",
      "Hartford: Received 540.00 tons, Required 540.00 tons - ✓\n",
      "Miami: Received 3,400.00 tons, Required 3,400.00 tons - ✓\n",
      "Lakeland: Received 185.00 tons, Required 185.00 tons - ✓\n",
      "Tampa: Received 1,600.00 tons, Required 1,600.00 tons - ✓\n",
      "Atlanta: Received 3,000.00 tons, Required 3,000.00 tons - ✓\n",
      "Honolulu: Received 500.00 tons, Required 500.00 tons - ✓\n",
      "Kahului/Maui: Received 16.00 tons, Required 16.00 tons - ✓\n",
      "Kona: Received 63.00 tons, Required 63.00 tons - ✓\n",
      "Chicago: Received 5,100.00 tons, Required 5,100.00 tons - ✓\n",
      "Rockford: Received 172.00 tons, Required 172.00 tons - ✓\n",
      "Fort Wayne: Received 200.00 tons, Required 200.00 tons - ✓\n",
      "South Bend: Received 173.00 tons, Required 173.00 tons - ✓\n",
      "Des Moines: Received 300.00 tons, Required 300.00 tons - ✓\n",
      "Wichita: Received 290.00 tons, Required 290.00 tons - ✓\n",
      "New Orleans: Received 550.00 tons, Required 550.00 tons - ✓\n",
      "Baltimore: Received 1,300.00 tons, Required 1,300.00 tons - ✓\n",
      "Minneapolis: Received 1,700.00 tons, Required 1,700.00 tons - ✓\n",
      "Kansas City: Received 975.00 tons, Required 975.00 tons - ✓\n",
      "St. Louis: Received 1,200.00 tons, Required 1,200.00 tons - ✓\n",
      "Omaha: Received 480.00 tons, Required 480.00 tons - ✓\n",
      "Manchester: Received 100.00 tons, Required 100.00 tons - ✓\n",
      "Albuquerque: Received 450.00 tons, Required 450.00 tons - ✓\n",
      "New York: Received 11,200.00 tons, Required 11,200.00 tons - ✓\n",
      "Charlotte: Received 900.00 tons, Required 900.00 tons - ✓\n",
      "Toledo: Received 290.00 tons, Required 290.00 tons - ✓\n",
      "Wilmington: Received 150.00 tons, Required 150.00 tons - ✓\n",
      "Portland: Received 1,200.00 tons, Required 1,200.00 tons - ✓\n",
      "Allentown: Received 420.00 tons, Required 420.00 tons - ✓\n",
      "Pittsburgh: Received 1,000.00 tons, Required 1,000.00 tons - ✓\n",
      "San Juan: Received 1,100.00 tons, Required 1,100.00 tons - ✓\n",
      "Nashville: Received 650.00 tons, Required 650.00 tons - ✓\n",
      "Austin: Received 975.00 tons, Required 975.00 tons - ✓\n",
      "Dallas: Received 3,300.00 tons, Required 3,300.00 tons - ✓\n",
      "Houston: Received 3,300.00 tons, Required 3,300.00 tons - ✓\n",
      "San Antonio: Received 1,100.00 tons, Required 1,100.00 tons - ✓\n",
      "Richmond: Received 600.00 tons, Required 600.00 tons - ✓\n",
      "Seattle/Tacoma: Received 2,000.00 tons, Required 2,000.00 tons - ✓\n",
      "Spokane: Received 260.00 tons, Required 260.00 tons - ✓\n"
     ]
    }
   ],
   "source": [
    "# Demand Constraint Verification\n",
    "print(\"\\nDEMAND CONSTRAINT VERIFICATION:\")\n",
    "print(\"-------------------------------\")\n",
    "for D in centers:\n",
    "    received = sum(value(x[FC, D]) for FC in supply_points if (FC, D) in x and value(x[FC, D]) > 0)\n",
    "    required = centers[D]\n",
    "    \n",
    "    is_satisfied = abs(received - required) < 0.001 \n",
    "    \n",
    "    print(f\"{D}: Received {received:,.2f} tons, Required {required:,.2f} tons - {'✓' if is_satisfied else '✗'}\")"
   ]
  },
  {
   "cell_type": "code",
   "execution_count": null,
   "id": "52ab3cce-e29b-4003-a479-707ecc22e896",
   "metadata": {},
   "outputs": [],
   "source": []
  },
  {
   "cell_type": "code",
   "execution_count": 14,
   "id": "1181f57b-f773-4745-962e-a1bd5a646cb7",
   "metadata": {},
   "outputs": [
    {
     "name": "stdout",
     "output_type": "stream",
     "text": [
      "\n",
      "NON-NEGATIVITY CONSTRAINT VERIFICATION:\n",
      "--------------------------------------\n",
      "All shipments are non-negative ✓\n"
     ]
    }
   ],
   "source": [
    "# Verify non-negativity constraints\n",
    "print(\"\\nNON-NEGATIVITY CONSTRAINT VERIFICATION:\")\n",
    "print(\"--------------------------------------\")\n",
    "negative_shipments = 0\n",
    "for (FC, D) in x:\n",
    "    shipment = value(x[FC, D])\n",
    "    if shipment < 0:\n",
    "        negative_shipments += 1\n",
    "        print(f\"Negative shipment: {FC} to {D} = {shipment:,.2f} tons\")\n",
    "\n",
    "if negative_shipments == 0:\n",
    "    print(\"All shipments are non-negative ✓\")"
   ]
  },
  {
   "cell_type": "code",
   "execution_count": 15,
   "id": "d7e5be11-a0ef-4117-840f-97c15f59f358",
   "metadata": {},
   "outputs": [
    {
     "name": "stdout",
     "output_type": "stream",
     "text": [
      "\n",
      "ROUTE AVAILABILITY VERIFICATION:\n",
      "-------------------------------\n",
      "Only available routes were used ✓\n"
     ]
    }
   ],
   "source": [
    "# Verify route availability constraints - I built this into the way routes were created\n",
    "print(\"\\nROUTE AVAILABILITY VERIFICATION:\")\n",
    "print(\"-------------------------------\")\n",
    "unavailable_routes_used = 0\n",
    "for (FC, D) in x:\n",
    "    if value(x[FC, D]) > 0 and (FC, D) not in costs:\n",
    "        unavailable_routes_used += 1\n",
    "        print(f\"Unavailable route used: {FC} to {D} = {value(x[FC, D]):,.2f} tons\")\n",
    "\n",
    "if unavailable_routes_used == 0:\n",
    "    print(\"Only available routes were used ✓\")"
   ]
  },
  {
   "cell_type": "code",
   "execution_count": 16,
   "id": "3f244066-9805-4560-861b-ede247591797",
   "metadata": {},
   "outputs": [
    {
     "name": "stdout",
     "output_type": "stream",
     "text": [
      "\n",
      "CAPACITY CONSTRAINT VERIFICATION:\n",
      "---------------------------------\n",
      "Cincinnati/Northern Kentucky (CVG): Shipped 60,615.00 tons, Capacity 95,650.00 tons - ✓\n",
      "Alliance Fort Worth (AFW): Shipped 5,375.00 tons, Capacity 44,350.00 tons - ✓\n",
      "Leipzig, Germany: Shipped 47,965.00 tons, Capacity 85,000.00 tons - ✓\n",
      "Hyderabad, India: Shipped 19,000.00 tons, Capacity 19,000.00 tons - ✓\n",
      "San Bernardino, CA, United States: Shipped 792.00 tons, Capacity 36,000.00 tons - ✓\n"
     ]
    }
   ],
   "source": [
    "# Verify capacity constraints\n",
    "print(\"\\nCAPACITY CONSTRAINT VERIFICATION:\")\n",
    "print(\"---------------------------------\")\n",
    "for FC in supply_points:\n",
    "    # Calculate total shipment from this supply point\n",
    "    shipped = sum(value(x[FC, D]) for D in centers if (FC, D) in x and value(x[FC, D]) > 0)\n",
    "    capacity = supply_points[FC]\n",
    "    \n",
    "    # Check if constraint is satisfied\n",
    "    is_satisfied = shipped <= capacity + 0.001  # Small tolerance for floating-point errors\n",
    "    \n",
    "    print(f\"{FC}: Shipped {shipped:,.2f} tons, Capacity {capacity:,.2f} tons - {'✓' if is_satisfied else '✗'}\")"
   ]
  },
  {
   "cell_type": "code",
   "execution_count": null,
   "id": "34c9c8bf-c43f-4ba5-8aab-27ad75dee06d",
   "metadata": {},
   "outputs": [],
   "source": []
  }
 ],
 "metadata": {
  "kernelspec": {
   "display_name": "Python 3 (ipykernel)",
   "language": "python",
   "name": "python3"
  },
  "language_info": {
   "codemirror_mode": {
    "name": "ipython",
    "version": 3
   },
   "file_extension": ".py",
   "mimetype": "text/x-python",
   "name": "python",
   "nbconvert_exporter": "python",
   "pygments_lexer": "ipython3",
   "version": "3.12.3"
  }
 },
 "nbformat": 4,
 "nbformat_minor": 5
}
